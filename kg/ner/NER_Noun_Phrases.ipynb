{
 "cells": [
  {
   "cell_type": "code",
   "execution_count": 54,
   "metadata": {},
   "outputs": [],
   "source": [
    "import nltk\n",
    "from nltk.corpus import conll2000\n",
    "import numpy as np\n",
    "import pandas as pd\n",
    "from sklearn.metrics import accuracy_score, classification_report\n",
    "\n",
    "import kg.ner.utils as utils\n",
    "from kg.ner.unsupervised import NounPhraseDetection, TFIDFScore, TextRankScore"
   ]
  },
  {
   "cell_type": "code",
   "execution_count": 55,
   "metadata": {},
   "outputs": [],
   "source": [
    "data_directory = '/Users/tmorrill002/Documents/datasets/conll/transformed'"
   ]
  },
  {
   "cell_type": "code",
   "execution_count": 56,
   "metadata": {},
   "outputs": [],
   "source": [
    "df_dict = utils.load_train_data(data_directory)"
   ]
  },
  {
   "cell_type": "markdown",
   "metadata": {},
   "source": [
    "## What fraction of NER tags are Noun Phrases?"
   ]
  },
  {
   "cell_type": "code",
   "execution_count": 57,
   "metadata": {},
   "outputs": [],
   "source": [
    "train_df = df_dict['train.csv']"
   ]
  },
  {
   "cell_type": "code",
   "execution_count": 58,
   "metadata": {},
   "outputs": [],
   "source": [
    "def nouns_over_NER(df, noun_col = 'Chunk_Tag', ner_col = 'NER_Tag_Normalized'):\n",
    "    ner_df = df[df[ner_col] != 'O']\n",
    "    noun_phrase_token_count = len(ner_df[(ner_df[noun_col] == 'I-NP') | (ner_df[noun_col] == 'B-NP')])\n",
    "    print(f'Count of noun phrase tokens among NER tokens: {noun_phrase_token_count}')\n",
    "    print(f'Count of NER tokens: {len(ner_df)}')\n",
    "    print(f'Percent of NER tokens that are part of noun phrases: {round(noun_phrase_token_count / len(ner_df),4) * 100}%')"
   ]
  },
  {
   "cell_type": "code",
   "execution_count": 59,
   "metadata": {},
   "outputs": [
    {
     "name": "stdout",
     "output_type": "stream",
     "text": [
      "Count of noun phrase tokens among NER tokens: 33054\n",
      "Count of NER tokens: 34043\n",
      "Percent of NER tokens that are part of noun phrases: 97.09%\n"
     ]
    }
   ],
   "source": [
    "nouns_over_NER(train_df)"
   ]
  },
  {
   "cell_type": "markdown",
   "metadata": {},
   "source": [
    "## What fraction of Noun Phrase tokens are NER tagged?"
   ]
  },
  {
   "cell_type": "code",
   "execution_count": 60,
   "metadata": {},
   "outputs": [],
   "source": [
    "def NER_over_nouns(df, noun_col = 'Chunk_Tag', ner_col = 'NER_Tag_Normalized'):\n",
    "    noun_phrase_df = df[(df[noun_col] == 'I-NP') | (df[noun_col] == 'B-NP')]\n",
    "    ner_tag_token_count = len(noun_phrase_df[noun_phrase_df[ner_col] != 'O'])\n",
    "    print(f'Count of NER tokens among noun phrase tokens: {ner_tag_token_count}')\n",
    "    print(f'Count of noun phrase tokens: {len(noun_phrase_df)}')\n",
    "    print(f'Percent of noun phrase tokens that are part of NER tags: {round(ner_tag_token_count / len(noun_phrase_df), 4) * 100}%')"
   ]
  },
  {
   "cell_type": "code",
   "execution_count": 61,
   "metadata": {},
   "outputs": [
    {
     "name": "stdout",
     "output_type": "stream",
     "text": [
      "Count of NER tokens among noun phrase tokens: 33054\n",
      "Count of noun phrase tokens: 124032\n",
      "Percent of noun phrase tokens that are part of NER tags: 26.650000000000002%\n"
     ]
    }
   ],
   "source": [
    "NER_over_nouns(train_df)"
   ]
  },
  {
   "cell_type": "markdown",
   "metadata": {},
   "source": [
    "### Conclusions:\n",
    "1. NER Tags are almost exclusively noun phrases (97%) -> noun phrase candidates will yield high recall\n",
    "2. Noun phrases encompass a lot more than NER tags -> noun phrase candidates will yield low precision and other techniques should be used to reduce the number of false positives"
   ]
  },
  {
   "cell_type": "markdown",
   "metadata": {},
   "source": [
    "### Evaluate Unsupervised Noun Phrase Detection Against CoNLL-2000 and CoNLL-2003"
   ]
  },
  {
   "cell_type": "code",
   "execution_count": 62,
   "metadata": {},
   "outputs": [],
   "source": [
    "conll_2000_test_sentences = conll2000.chunked_sents('test.txt', chunk_types=['NP'])"
   ]
  },
  {
   "cell_type": "code",
   "execution_count": 63,
   "metadata": {},
   "outputs": [],
   "source": [
    "chunk_parser = NounPhraseDetection()"
   ]
  },
  {
   "cell_type": "code",
   "execution_count": 64,
   "metadata": {},
   "outputs": [
    {
     "name": "stdout",
     "output_type": "stream",
     "text": [
      "ChunkParse score:\n",
      "    IOB Accuracy:  87.7%%\n",
      "    Precision:     70.6%%\n",
      "    Recall:        67.8%%\n",
      "    F-Measure:     69.2%%\n"
     ]
    }
   ],
   "source": [
    "print(chunk_parser.evaluate(conll_2000_test_sentences))"
   ]
  },
  {
   "cell_type": "code",
   "execution_count": 65,
   "metadata": {},
   "outputs": [],
   "source": [
    "def consolidate(x):\n",
    "    return (x['Token'], x['POS_Tag'], x['Chunk_Tag'])"
   ]
  },
  {
   "cell_type": "code",
   "execution_count": 66,
   "metadata": {},
   "outputs": [],
   "source": [
    "train_df['Tags'] = train_df.apply(consolidate, axis=1) #passes a Series object, row-wise"
   ]
  },
  {
   "cell_type": "code",
   "execution_count": 67,
   "metadata": {},
   "outputs": [],
   "source": [
    "# ground truth labeled data containing (token, pos, chunk), used for evaluation\n",
    "train_conll_2003 = train_df.groupby(['Article_ID', 'Sentence_ID'], )['Tags'].apply(list).values.tolist()"
   ]
  },
  {
   "cell_type": "code",
   "execution_count": 68,
   "metadata": {},
   "outputs": [],
   "source": [
    "# pos tagged sentences only containing (token, pos), used to make predictions\n",
    "train_conll_2003_pos_tags = []\n",
    "for sentence in train_conll_2003:\n",
    "    temp_sentence = []\n",
    "    for token, pos, chunk in sentence:\n",
    "        temp_sentence.append((token, pos))\n",
    "    train_conll_2003_pos_tags.append(temp_sentence)"
   ]
  },
  {
   "cell_type": "code",
   "execution_count": 69,
   "metadata": {},
   "outputs": [],
   "source": [
    "# examples must be in \"tree\" format to use evaluation code\n",
    "trees = []\n",
    "for example in train_conll_2003:\n",
    "    trees.append(nltk.chunk.conlltags2tree(example))"
   ]
  },
  {
   "cell_type": "code",
   "execution_count": 70,
   "metadata": {},
   "outputs": [
    {
     "name": "stdout",
     "output_type": "stream",
     "text": [
      "ChunkParse score:\n",
      "    IOB Accuracy:  67.4%%\n",
      "    Precision:     80.5%%\n",
      "    Recall:        43.7%%\n",
      "    F-Measure:     56.7%%\n"
     ]
    }
   ],
   "source": [
    "# getting harmed here because B-NP tags aren't marked appropriately in CoNLL-2003\n",
    "print(chunk_parser.evaluate(trees))"
   ]
  },
  {
   "cell_type": "code",
   "execution_count": 71,
   "metadata": {},
   "outputs": [],
   "source": [
    "prediction_trees = []\n",
    "for example in train_conll_2003_pos_tags:\n",
    "    prediction_trees.append(chunk_parser.parse(example))"
   ]
  },
  {
   "cell_type": "code",
   "execution_count": 72,
   "metadata": {},
   "outputs": [],
   "source": [
    "predictions = []\n",
    "for sentence in prediction_trees:\n",
    "    predictions.append(nltk.chunk.tree2conlltags(sentence))"
   ]
  },
  {
   "cell_type": "code",
   "execution_count": 73,
   "metadata": {},
   "outputs": [],
   "source": [
    "flattened = [prediction for sentence in predictions for prediction in sentence ]"
   ]
  },
  {
   "cell_type": "code",
   "execution_count": 74,
   "metadata": {},
   "outputs": [],
   "source": [
    "train_df['Prediction'] = flattened"
   ]
  },
  {
   "cell_type": "code",
   "execution_count": 75,
   "metadata": {},
   "outputs": [],
   "source": [
    "train_df['Prediction'] = train_df['Prediction'].apply(lambda x: x[2])"
   ]
  },
  {
   "cell_type": "code",
   "execution_count": 76,
   "metadata": {},
   "outputs": [],
   "source": [
    "train_df['Noun_Phrase'] = train_df['Prediction'] != 'O'"
   ]
  },
  {
   "cell_type": "code",
   "execution_count": 77,
   "metadata": {},
   "outputs": [
    {
     "name": "stdout",
     "output_type": "stream",
     "text": [
      "Count of noun phrase tokens among NER tokens: 33030\n",
      "Count of NER tokens: 34043\n",
      "Percent of NER tokens that are part of noun phrases: 97.02%\n"
     ]
    }
   ],
   "source": [
    "nouns_over_NER(train_df, 'Prediction', 'NER_Tag_Normalized')"
   ]
  },
  {
   "cell_type": "code",
   "execution_count": 78,
   "metadata": {},
   "outputs": [
    {
     "name": "stdout",
     "output_type": "stream",
     "text": [
      "Count of NER tokens among noun phrase tokens: 33030\n",
      "Count of noun phrase tokens: 124428\n",
      "Percent of noun phrase tokens that are part of NER tags: 26.55%\n"
     ]
    }
   ],
   "source": [
    "NER_over_nouns(train_df, 'Prediction', 'NER_Tag_Normalized')"
   ]
  },
  {
   "cell_type": "code",
   "execution_count": 79,
   "metadata": {},
   "outputs": [],
   "source": [
    "train_df['NP_Chunk_Tag'] = (train_df['Chunk_Tag'] == 'I-NP') | (train_df['Chunk_Tag'] == 'B-NP')"
   ]
  },
  {
   "cell_type": "code",
   "execution_count": 80,
   "metadata": {},
   "outputs": [
    {
     "data": {
      "text/plain": [
       "0.9570476522559068"
      ]
     },
     "execution_count": 80,
     "metadata": {},
     "output_type": "execute_result"
    }
   ],
   "source": [
    "# agreement between existing ConLL-2003 noun phrase tags and the predicted tags\n",
    "(train_df['Noun_Phrase'] == train_df['NP_Chunk_Tag']).sum() / len(train_df)"
   ]
  },
  {
   "cell_type": "markdown",
   "metadata": {},
   "source": [
    "## Evaluate TF-IDF Rankings"
   ]
  },
  {
   "cell_type": "code",
   "execution_count": 81,
   "metadata": {},
   "outputs": [],
   "source": [
    "entity_extractor = TFIDFScore(chunk_parser)"
   ]
  },
  {
   "cell_type": "code",
   "execution_count": 82,
   "metadata": {},
   "outputs": [],
   "source": [
    "train_df['NER_Tag_Flag'] = train_df['NER_Tag'] != 'O'"
   ]
  },
  {
   "cell_type": "code",
   "execution_count": 83,
   "metadata": {},
   "outputs": [],
   "source": [
    "# gather up articles\n",
    "articles = train_df.groupby(['Article_ID'], )['Token'].apply(lambda x: ' '.join([str(y) for y in list(x)])).values.tolist()"
   ]
  },
  {
   "cell_type": "code",
   "execution_count": 84,
   "metadata": {},
   "outputs": [],
   "source": [
    "# fit TFIDF model\n",
    "entity_extractor.fit(articles)"
   ]
  },
  {
   "cell_type": "code",
   "execution_count": 85,
   "metadata": {},
   "outputs": [],
   "source": [
    "# get candidate phrases\n",
    "candidates = []\n",
    "for article in articles:\n",
    "    # manually tokenize because nltk tokenizer is converting 'C$' -> ['C', '$'] and throwing off comparison\n",
    "    sentences = utils.tokenize_text(article)\n",
    "    article = [sentence.split() for sentence in sentences]\n",
    "    article = utils.tag_pos(article)\n",
    "    for candidate in entity_extractor.candidates(article, preprocess = False):\n",
    "        candidates.append(candidate)"
   ]
  },
  {
   "cell_type": "code",
   "execution_count": 86,
   "metadata": {},
   "outputs": [
    {
     "name": "stderr",
     "output_type": "stream",
     "text": [
      "/Users/tmorrill002/Documents/knowledge-graphs/kg/ner/unsupervised.py:192: RuntimeWarning: invalid value encountered in true_divide\n",
      "  scores = sums / token_counts\n"
     ]
    }
   ],
   "source": [
    "scores = entity_extractor.score_phrases(candidates)"
   ]
  },
  {
   "cell_type": "code",
   "execution_count": 87,
   "metadata": {},
   "outputs": [],
   "source": [
    "def prepare_scored_phrases(scored_candidates):\n",
    "    df = pd.DataFrame(scored_candidates, columns=['Predicted_Phrase', 'Noun_Phrase_Flag', 'Score'])\n",
    "    df['Phrase_ID'] = df.index\n",
    "    df['Predicted_Phrase'] = df['Predicted_Phrase'].apply(lambda x: x.split())\n",
    "    df = df.explode('Predicted_Phrase')\n",
    "    # punctuation isn't getting assigned a score, fill with zero for now\n",
    "    df['Score'] = df['Score'].fillna(0.0)\n",
    "    # TODO: Investigate why this is happening\n",
    "    df['Predicted_Phrase'] = df['Predicted_Phrase'].replace('``', '\"')\n",
    "    return df"
   ]
  },
  {
   "cell_type": "code",
   "execution_count": 88,
   "metadata": {},
   "outputs": [],
   "source": [
    "prediction_df = prepare_scored_phrases(scores)"
   ]
  },
  {
   "cell_type": "code",
   "execution_count": 89,
   "metadata": {},
   "outputs": [],
   "source": [
    "def merge_dfs(train_df, prediction_df):\n",
    "    \n",
    "    assert len(train_df) == len(prediction_df)\n",
    "    eval_df = pd.concat((train_df, prediction_df.reset_index(drop=True)), axis=1)\n",
    "\n",
    "    # TODO: why are some CoNLL-2003 tokens NaN?\n",
    "    eval_df = eval_df.dropna(subset=['Token'])\n",
    "    assert (eval_df['Token'] == eval_df['Predicted_Phrase']).sum() == len(eval_df) \n",
    "    \n",
    "    eval_df['Predicted_Entity_Flag'] = eval_df['Noun_Phrase_Flag']\n",
    "    \n",
    "    return eval_df"
   ]
  },
  {
   "cell_type": "code",
   "execution_count": 90,
   "metadata": {},
   "outputs": [],
   "source": [
    "tfidf_eval_df = merge_dfs(train_df, prediction_df)"
   ]
  },
  {
   "cell_type": "code",
   "execution_count": 122,
   "metadata": {},
   "outputs": [],
   "source": [
    "def optimize_threshold(eval_df, scoring_method='TFIDF', optimization_steps=32):\n",
    "    # optimize threshold to maximize macro f1\n",
    "    start = eval_df['Score'].describe()['25%']\n",
    "    stop = eval_df['Score'].describe()['75%']\n",
    "    step = (stop - start) / optimization_steps\n",
    "    \n",
    "    predictions = []\n",
    "    for thresh in np.arange(start, stop, step=step):\n",
    "        predictions.append((thresh, (eval_df['Noun_Phrase_Flag'] & (eval_df['Score'] >= thresh)).values))\n",
    "\n",
    "    scores = []\n",
    "    for prediction in predictions:\n",
    "        report = classification_report(eval_df['NER_Tag_Flag'], prediction[1], output_dict=True)\n",
    "        scores.append((prediction[0], report['True']['f1-score'], report['True']['precision'], report['True']['recall']))\n",
    "\n",
    "    optimized_threshold = max(scores, key=lambda x: x[1])[0]\n",
    "    \n",
    "    print(f'Optimize {scoring_method} threshold ({optimized_threshold}) to maximize positive class (Entity = True) F1 score.')\n",
    "    print(f'Range searched - start: {start}, stop: {stop}, step: {step}')\n",
    "    print(classification_report(eval_df['NER_Tag_Flag'], (eval_df['Noun_Phrase_Flag'] & (eval_df['Score'] >= optimized_threshold))))\n",
    "    \n",
    "    return optimized_threshold, scores"
   ]
  },
  {
   "cell_type": "code",
   "execution_count": 123,
   "metadata": {},
   "outputs": [],
   "source": [
    "def evaluate(eval_df, scoring_method='TFIDF', optimization_steps=32):\n",
    "    # baseline of just using noun phrases to identify entities (high recall, low precision)\n",
    "    print('Baseline using noun phrases to identify entities:')\n",
    "    print(classification_report(eval_df['NER_Tag_Flag'], eval_df['Predicted_Entity_Flag']))\n",
    "    print()\n",
    "    \n",
    "    # use score and a threshold\n",
    "    median_threshold = eval_df['Score'].describe()['50%']\n",
    "    eval_df[f'Predicted_Entity_Flag_{scoring_method}_Median'] = (eval_df['Noun_Phrase_Flag'] & (eval_df['Score'] > median_threshold))\n",
    "    print(f'Use the median {scoring_method} score ({round(median_threshold, 4)}) as a threshold to identify entities.')\n",
    "    print(classification_report(eval_df['NER_Tag_Flag'], eval_df[f'Predicted_Entity_Flag_{scoring_method}_Median']))\n",
    "    print()\n",
    "    \n",
    "    return optimize_threshold(eval_df, scoring_method, optimization_steps)"
   ]
  },
  {
   "cell_type": "code",
   "execution_count": 93,
   "metadata": {},
   "outputs": [
    {
     "name": "stdout",
     "output_type": "stream",
     "text": [
      "Baseline using noun phrases to identify entities:\n",
      "              precision    recall  f1-score   support\n",
      "\n",
      "       False       0.99      0.51      0.68    169575\n",
      "        True       0.29      0.98      0.44     34043\n",
      "\n",
      "    accuracy                           0.59    203618\n",
      "   macro avg       0.64      0.74      0.56    203618\n",
      "weighted avg       0.87      0.59      0.64    203618\n",
      "\n",
      "\n",
      "Use the median TFIDF score (3.8135) as a threshold to identify entities.\n",
      "              precision    recall  f1-score   support\n",
      "\n",
      "       False       0.95      0.69      0.80    169575\n",
      "        True       0.34      0.81      0.48     34043\n",
      "\n",
      "    accuracy                           0.71    203618\n",
      "   macro avg       0.64      0.75      0.64    203618\n",
      "weighted avg       0.85      0.71      0.74    203618\n",
      "\n",
      "\n",
      "Optimize TFIDF threshold (4.497740067462728) to maximize positive class (Entity = True) F1 score.\n",
      "Range searched - start: 2.694243793971549, stop: 4.913931515191463, step: 0.0693652412881223\n",
      "              precision    recall  f1-score   support\n",
      "\n",
      "       False       0.92      0.80      0.85    169575\n",
      "        True       0.39      0.64      0.48     34043\n",
      "\n",
      "    accuracy                           0.77    203618\n",
      "   macro avg       0.65      0.72      0.67    203618\n",
      "weighted avg       0.83      0.77      0.79    203618\n",
      "\n"
     ]
    },
    {
     "data": {
      "text/plain": [
       "4.497740067462728"
      ]
     },
     "execution_count": 93,
     "metadata": {},
     "output_type": "execute_result"
    }
   ],
   "source": [
    "evaluate(tfidf_eval_df)"
   ]
  },
  {
   "cell_type": "markdown",
   "metadata": {},
   "source": [
    "## Evaluate TextRank Rankings"
   ]
  },
  {
   "cell_type": "code",
   "execution_count": 94,
   "metadata": {},
   "outputs": [],
   "source": [
    "chunk_parser = NounPhraseDetection()\n",
    "for article in articles[:1]:\n",
    "    scorer = TextRankScore(article, preprocess=True, parser=chunk_parser)\n",
    "    scorer.fit()\n",
    "    candidates = scorer.candidates(article, )\n",
    "    scores = scorer.score_phrases(candidates)"
   ]
  },
  {
   "cell_type": "code",
   "execution_count": 95,
   "metadata": {},
   "outputs": [
    {
     "name": "stdout",
     "output_type": "stream",
     "text": [
      "0\n",
      "100\n",
      "200\n",
      "300\n",
      "400\n",
      "500\n",
      "600\n",
      "700\n",
      "800\n",
      "900\n"
     ]
    }
   ],
   "source": [
    "# get candidate phrases\n",
    "scored_candidates = []\n",
    "for idx, article in enumerate(articles):\n",
    "    # fit TextRank for article\n",
    "    scorer = TextRankScore(article, preprocess=True, parser=chunk_parser)\n",
    "    scorer.fit()\n",
    "    \n",
    "    # manually tokenize because nltk tokenizer is converting 'C$' -> ['C', '$'] and throwing off comparison\n",
    "    sentences = utils.tokenize_text(article)\n",
    "    article = [sentence.split() for sentence in sentences]\n",
    "    article = utils.tag_pos(article)\n",
    "    candidates = scorer.candidates(article, preprocess = False)\n",
    "        \n",
    "    # score candidates\n",
    "    for candidate in scorer.score_phrases(candidates):\n",
    "        scored_candidates.append(candidate)\n",
    "    if idx % 100 == 0:\n",
    "        print(idx)"
   ]
  },
  {
   "cell_type": "code",
   "execution_count": 96,
   "metadata": {},
   "outputs": [
    {
     "data": {
      "text/plain": [
       "101152"
      ]
     },
     "execution_count": 96,
     "metadata": {},
     "output_type": "execute_result"
    }
   ],
   "source": [
    "len(scored_candidates)"
   ]
  },
  {
   "cell_type": "code",
   "execution_count": 97,
   "metadata": {},
   "outputs": [],
   "source": [
    "text_rank_df = prepare_scored_phrases(scored_candidates)"
   ]
  },
  {
   "cell_type": "code",
   "execution_count": 98,
   "metadata": {},
   "outputs": [
    {
     "data": {
      "text/html": [
       "<div>\n",
       "<style scoped>\n",
       "    .dataframe tbody tr th:only-of-type {\n",
       "        vertical-align: middle;\n",
       "    }\n",
       "\n",
       "    .dataframe tbody tr th {\n",
       "        vertical-align: top;\n",
       "    }\n",
       "\n",
       "    .dataframe thead th {\n",
       "        text-align: right;\n",
       "    }\n",
       "</style>\n",
       "<table border=\"1\" class=\"dataframe\">\n",
       "  <thead>\n",
       "    <tr style=\"text-align: right;\">\n",
       "      <th></th>\n",
       "      <th>Predicted_Phrase</th>\n",
       "      <th>Noun_Phrase_Flag</th>\n",
       "      <th>Score</th>\n",
       "      <th>Phrase_ID</th>\n",
       "    </tr>\n",
       "  </thead>\n",
       "  <tbody>\n",
       "    <tr>\n",
       "      <th>0</th>\n",
       "      <td>EU</td>\n",
       "      <td>True</td>\n",
       "      <td>0.052326</td>\n",
       "      <td>0</td>\n",
       "    </tr>\n",
       "    <tr>\n",
       "      <th>1</th>\n",
       "      <td>rejects</td>\n",
       "      <td>False</td>\n",
       "      <td>0.000000</td>\n",
       "      <td>1</td>\n",
       "    </tr>\n",
       "    <tr>\n",
       "      <th>2</th>\n",
       "      <td>German</td>\n",
       "      <td>True</td>\n",
       "      <td>0.488372</td>\n",
       "      <td>2</td>\n",
       "    </tr>\n",
       "    <tr>\n",
       "      <th>2</th>\n",
       "      <td>call</td>\n",
       "      <td>True</td>\n",
       "      <td>0.488372</td>\n",
       "      <td>2</td>\n",
       "    </tr>\n",
       "    <tr>\n",
       "      <th>3</th>\n",
       "      <td>to</td>\n",
       "      <td>False</td>\n",
       "      <td>0.000000</td>\n",
       "      <td>3</td>\n",
       "    </tr>\n",
       "    <tr>\n",
       "      <th>...</th>\n",
       "      <td>...</td>\n",
       "      <td>...</td>\n",
       "      <td>...</td>\n",
       "      <td>...</td>\n",
       "    </tr>\n",
       "    <tr>\n",
       "      <th>101151</th>\n",
       "      <td>three</td>\n",
       "      <td>True</td>\n",
       "      <td>1.000000</td>\n",
       "      <td>101151</td>\n",
       "    </tr>\n",
       "    <tr>\n",
       "      <th>101151</th>\n",
       "      <td>Swansea</td>\n",
       "      <td>True</td>\n",
       "      <td>1.000000</td>\n",
       "      <td>101151</td>\n",
       "    </tr>\n",
       "    <tr>\n",
       "      <th>101151</th>\n",
       "      <td>1</td>\n",
       "      <td>True</td>\n",
       "      <td>1.000000</td>\n",
       "      <td>101151</td>\n",
       "    </tr>\n",
       "    <tr>\n",
       "      <th>101151</th>\n",
       "      <td>Lincoln</td>\n",
       "      <td>True</td>\n",
       "      <td>1.000000</td>\n",
       "      <td>101151</td>\n",
       "    </tr>\n",
       "    <tr>\n",
       "      <th>101151</th>\n",
       "      <td>2</td>\n",
       "      <td>True</td>\n",
       "      <td>1.000000</td>\n",
       "      <td>101151</td>\n",
       "    </tr>\n",
       "  </tbody>\n",
       "</table>\n",
       "<p>203621 rows × 4 columns</p>\n",
       "</div>"
      ],
      "text/plain": [
       "       Predicted_Phrase  Noun_Phrase_Flag     Score  Phrase_ID\n",
       "0                    EU              True  0.052326          0\n",
       "1               rejects             False  0.000000          1\n",
       "2                German              True  0.488372          2\n",
       "2                  call              True  0.488372          2\n",
       "3                    to             False  0.000000          3\n",
       "...                 ...               ...       ...        ...\n",
       "101151            three              True  1.000000     101151\n",
       "101151          Swansea              True  1.000000     101151\n",
       "101151                1              True  1.000000     101151\n",
       "101151          Lincoln              True  1.000000     101151\n",
       "101151                2              True  1.000000     101151\n",
       "\n",
       "[203621 rows x 4 columns]"
      ]
     },
     "execution_count": 98,
     "metadata": {},
     "output_type": "execute_result"
    }
   ],
   "source": [
    "text_rank_df"
   ]
  },
  {
   "cell_type": "code",
   "execution_count": 99,
   "metadata": {},
   "outputs": [],
   "source": [
    "text_rank_eval_df = merge_dfs(train_df, text_rank_df)"
   ]
  },
  {
   "cell_type": "code",
   "execution_count": 100,
   "metadata": {},
   "outputs": [
    {
     "data": {
      "text/plain": [
       "<AxesSubplot:ylabel='Density'>"
      ]
     },
     "execution_count": 100,
     "metadata": {},
     "output_type": "execute_result"
    },
    {
     "data": {
      "image/png": "[encoded data removed]",
      "text/plain": [
       "<Figure size 432x288 with 1 Axes>"
      ]
     },
     "metadata": {
      "needs_background": "light"
     },
     "output_type": "display_data"
    }
   ],
   "source": [
    "text_rank_eval_df['Score'].plot(kind='density')"
   ]
  },
  {
   "cell_type": "code",
   "execution_count": 124,
   "metadata": {},
   "outputs": [
    {
     "name": "stdout",
     "output_type": "stream",
     "text": [
      "Baseline using noun phrases to identify entities:\n",
      "              precision    recall  f1-score   support\n",
      "\n",
      "       False       0.99      0.51      0.68    169575\n",
      "        True       0.29      0.98      0.44     34043\n",
      "\n",
      "    accuracy                           0.59    203618\n",
      "   macro avg       0.64      0.74      0.56    203618\n",
      "weighted avg       0.87      0.59      0.64    203618\n",
      "\n",
      "\n",
      "Use the median TextRank score (0.2) as a threshold to identify entities.\n",
      "              precision    recall  f1-score   support\n",
      "\n",
      "       False       0.94      0.56      0.70    169575\n",
      "        True       0.27      0.81      0.41     34043\n",
      "\n",
      "    accuracy                           0.60    203618\n",
      "   macro avg       0.60      0.69      0.56    203618\n",
      "weighted avg       0.83      0.60      0.65    203618\n",
      "\n",
      "\n",
      "Optimize TextRank threshold (0.02564102564102564) to maximize positive class (Entity = True) F1 score.\n",
      "Range searched - start: 0.0, stop: 0.641025641025641, step: 0.00641025641025641\n",
      "              precision    recall  f1-score   support\n",
      "\n",
      "       False       0.99      0.51      0.68    169575\n",
      "        True       0.29      0.98      0.44     34043\n",
      "\n",
      "    accuracy                           0.59    203618\n",
      "   macro avg       0.64      0.74      0.56    203618\n",
      "weighted avg       0.87      0.59      0.64    203618\n",
      "\n"
     ]
    }
   ],
   "source": [
    "results = evaluate(text_rank_eval_df, scoring_method='TextRank', optimization_steps=100)"
   ]
  },
  {
   "cell_type": "markdown",
   "metadata": {},
   "source": [
    "### Why is precision going down as we increase the threshold? Are higher thresholds associated with more false positives?"
   ]
  },
  {
   "cell_type": "code",
   "execution_count": 138,
   "metadata": {},
   "outputs": [
    {
     "data": {
      "text/plain": [
       "<AxesSubplot:xlabel='Threshold'>"
      ]
     },
     "execution_count": 138,
     "metadata": {},
     "output_type": "execute_result"
    },
    {
     "data": {
      "image/png": "[encoded data removed]",
      "text/plain": [
       "<Figure size 432x288 with 1 Axes>"
      ]
     },
     "metadata": {
      "needs_background": "light"
     },
     "output_type": "display_data"
    }
   ],
   "source": [
    "results_df = pd.DataFrame(results[1], columns=['Threshold', 'Macro-F1', 'Precision', 'Recall'])\n",
    "\n",
    "results_df.index = results_df['Threshold']\n",
    "\n",
    "results_df.drop(columns=['Threshold']).plot()"
   ]
  },
  {
   "cell_type": "code",
   "execution_count": 139,
   "metadata": {},
   "outputs": [],
   "source": [
    "above_thresh_df = text_rank_eval_df[(text_rank_eval_df['Score'] >= text_rank_eval_df['Score'].describe()['50%']) & text_rank_eval_df['Predicted_Entity_Flag']]"
   ]
  },
  {
   "cell_type": "code",
   "execution_count": 140,
   "metadata": {},
   "outputs": [],
   "source": [
    "below_thresh_df = text_rank_eval_df[(text_rank_eval_df['Score'] < text_rank_eval_df['Score'].describe()['50%']) & text_rank_eval_df['Predicted_Entity_Flag']]"
   ]
  },
  {
   "cell_type": "code",
   "execution_count": 141,
   "metadata": {},
   "outputs": [
    {
     "data": {
      "text/plain": [
       "0.27209758009209367"
      ]
     },
     "execution_count": 141,
     "metadata": {},
     "output_type": "execute_result"
    }
   ],
   "source": [
    "above_thresh_df['NER_Tag_Flag'].sum() / len(above_thresh_df)"
   ]
  },
  {
   "cell_type": "code",
   "execution_count": 142,
   "metadata": {},
   "outputs": [
    {
     "data": {
      "text/plain": [
       "0.39342362569711015"
      ]
     },
     "execution_count": 142,
     "metadata": {},
     "output_type": "execute_result"
    }
   ],
   "source": [
    "below_thresh_df['NER_Tag_Flag'].sum() / len(below_thresh_df)"
   ]
  },
  {
   "cell_type": "code",
   "execution_count": 143,
   "metadata": {},
   "outputs": [
    {
     "data": {
      "text/html": [
       "<div>\n",
       "<style scoped>\n",
       "    .dataframe tbody tr th:only-of-type {\n",
       "        vertical-align: middle;\n",
       "    }\n",
       "\n",
       "    .dataframe tbody tr th {\n",
       "        vertical-align: top;\n",
       "    }\n",
       "\n",
       "    .dataframe thead th {\n",
       "        text-align: right;\n",
       "    }\n",
       "</style>\n",
       "<table border=\"1\" class=\"dataframe\">\n",
       "  <thead>\n",
       "    <tr style=\"text-align: right;\">\n",
       "      <th></th>\n",
       "      <th>Article_ID</th>\n",
       "      <th>Sentence_ID</th>\n",
       "      <th>Token_ID</th>\n",
       "      <th>Token</th>\n",
       "      <th>POS_Tag</th>\n",
       "      <th>Chunk_Tag</th>\n",
       "      <th>NER_Tag</th>\n",
       "      <th>NER_Tag_ID</th>\n",
       "      <th>NER_Tag_Normalized</th>\n",
       "      <th>Tags</th>\n",
       "      <th>...</th>\n",
       "      <th>Noun_Phrase</th>\n",
       "      <th>NP_Chunk_Tag</th>\n",
       "      <th>NER_Tag_Flag</th>\n",
       "      <th>Predicted_Phrase</th>\n",
       "      <th>Noun_Phrase_Flag</th>\n",
       "      <th>Score</th>\n",
       "      <th>Phrase_ID</th>\n",
       "      <th>Predicted_Entity_Flag</th>\n",
       "      <th>Predicted_Entity_Flag_TFIDF_Median</th>\n",
       "      <th>Predicted_Entity_Flag_TextRank_Median</th>\n",
       "    </tr>\n",
       "  </thead>\n",
       "  <tbody>\n",
       "    <tr>\n",
       "      <th>131561</th>\n",
       "      <td>603</td>\n",
       "      <td>3</td>\n",
       "      <td>2</td>\n",
       "      <td>rise</td>\n",
       "      <td>NN</td>\n",
       "      <td>I-NP</td>\n",
       "      <td>O</td>\n",
       "      <td>NaN</td>\n",
       "      <td>O</td>\n",
       "      <td>(rise, NN, I-NP)</td>\n",
       "      <td>...</td>\n",
       "      <td>True</td>\n",
       "      <td>True</td>\n",
       "      <td>False</td>\n",
       "      <td>rise</td>\n",
       "      <td>True</td>\n",
       "      <td>0.2</td>\n",
       "      <td>64664</td>\n",
       "      <td>True</td>\n",
       "      <td>False</td>\n",
       "      <td>False</td>\n",
       "    </tr>\n",
       "    <tr>\n",
       "      <th>193164</th>\n",
       "      <td>893</td>\n",
       "      <td>1</td>\n",
       "      <td>0</td>\n",
       "      <td>DUBAI</td>\n",
       "      <td>NNP</td>\n",
       "      <td>I-NP</td>\n",
       "      <td>I-LOC</td>\n",
       "      <td>22570.0</td>\n",
       "      <td>LOC</td>\n",
       "      <td>(DUBAI, NNP, I-NP)</td>\n",
       "      <td>...</td>\n",
       "      <td>True</td>\n",
       "      <td>True</td>\n",
       "      <td>True</td>\n",
       "      <td>DUBAI</td>\n",
       "      <td>True</td>\n",
       "      <td>0.2</td>\n",
       "      <td>95657</td>\n",
       "      <td>True</td>\n",
       "      <td>False</td>\n",
       "      <td>False</td>\n",
       "    </tr>\n",
       "    <tr>\n",
       "      <th>193165</th>\n",
       "      <td>893</td>\n",
       "      <td>1</td>\n",
       "      <td>1</td>\n",
       "      <td>1996-08-29</td>\n",
       "      <td>CD</td>\n",
       "      <td>I-NP</td>\n",
       "      <td>O</td>\n",
       "      <td>NaN</td>\n",
       "      <td>O</td>\n",
       "      <td>(1996-08-29, CD, I-NP)</td>\n",
       "      <td>...</td>\n",
       "      <td>True</td>\n",
       "      <td>True</td>\n",
       "      <td>False</td>\n",
       "      <td>1996-08-29</td>\n",
       "      <td>True</td>\n",
       "      <td>0.2</td>\n",
       "      <td>95657</td>\n",
       "      <td>True</td>\n",
       "      <td>False</td>\n",
       "      <td>False</td>\n",
       "    </tr>\n",
       "    <tr>\n",
       "      <th>193166</th>\n",
       "      <td>893</td>\n",
       "      <td>2</td>\n",
       "      <td>0</td>\n",
       "      <td>Washington</td>\n",
       "      <td>NNP</td>\n",
       "      <td>I-NP</td>\n",
       "      <td>I-LOC</td>\n",
       "      <td>22571.0</td>\n",
       "      <td>LOC</td>\n",
       "      <td>(Washington, NNP, I-NP)</td>\n",
       "      <td>...</td>\n",
       "      <td>True</td>\n",
       "      <td>True</td>\n",
       "      <td>True</td>\n",
       "      <td>Washington</td>\n",
       "      <td>True</td>\n",
       "      <td>0.2</td>\n",
       "      <td>95657</td>\n",
       "      <td>True</td>\n",
       "      <td>False</td>\n",
       "      <td>False</td>\n",
       "    </tr>\n",
       "    <tr>\n",
       "      <th>20719</th>\n",
       "      <td>101</td>\n",
       "      <td>16</td>\n",
       "      <td>4</td>\n",
       "      <td>time</td>\n",
       "      <td>NN</td>\n",
       "      <td>I-NP</td>\n",
       "      <td>O</td>\n",
       "      <td>NaN</td>\n",
       "      <td>O</td>\n",
       "      <td>(time, NN, I-NP)</td>\n",
       "      <td>...</td>\n",
       "      <td>True</td>\n",
       "      <td>True</td>\n",
       "      <td>False</td>\n",
       "      <td>time</td>\n",
       "      <td>True</td>\n",
       "      <td>0.2</td>\n",
       "      <td>11041</td>\n",
       "      <td>True</td>\n",
       "      <td>False</td>\n",
       "      <td>False</td>\n",
       "    </tr>\n",
       "    <tr>\n",
       "      <th>95789</th>\n",
       "      <td>450</td>\n",
       "      <td>28</td>\n",
       "      <td>7</td>\n",
       "      <td>nationalistic</td>\n",
       "      <td>JJ</td>\n",
       "      <td>I-NP</td>\n",
       "      <td>O</td>\n",
       "      <td>NaN</td>\n",
       "      <td>O</td>\n",
       "      <td>(nationalistic, JJ, I-NP)</td>\n",
       "      <td>...</td>\n",
       "      <td>True</td>\n",
       "      <td>True</td>\n",
       "      <td>False</td>\n",
       "      <td>nationalistic</td>\n",
       "      <td>True</td>\n",
       "      <td>0.2</td>\n",
       "      <td>46860</td>\n",
       "      <td>True</td>\n",
       "      <td>False</td>\n",
       "      <td>False</td>\n",
       "    </tr>\n",
       "    <tr>\n",
       "      <th>95790</th>\n",
       "      <td>450</td>\n",
       "      <td>28</td>\n",
       "      <td>8</td>\n",
       "      <td>political</td>\n",
       "      <td>JJ</td>\n",
       "      <td>I-NP</td>\n",
       "      <td>O</td>\n",
       "      <td>NaN</td>\n",
       "      <td>O</td>\n",
       "      <td>(political, JJ, I-NP)</td>\n",
       "      <td>...</td>\n",
       "      <td>True</td>\n",
       "      <td>True</td>\n",
       "      <td>False</td>\n",
       "      <td>political</td>\n",
       "      <td>True</td>\n",
       "      <td>0.2</td>\n",
       "      <td>46860</td>\n",
       "      <td>True</td>\n",
       "      <td>False</td>\n",
       "      <td>False</td>\n",
       "    </tr>\n",
       "    <tr>\n",
       "      <th>95791</th>\n",
       "      <td>450</td>\n",
       "      <td>28</td>\n",
       "      <td>9</td>\n",
       "      <td>leaders</td>\n",
       "      <td>NNS</td>\n",
       "      <td>I-NP</td>\n",
       "      <td>O</td>\n",
       "      <td>NaN</td>\n",
       "      <td>O</td>\n",
       "      <td>(leaders, NNS, I-NP)</td>\n",
       "      <td>...</td>\n",
       "      <td>True</td>\n",
       "      <td>True</td>\n",
       "      <td>False</td>\n",
       "      <td>leaders</td>\n",
       "      <td>True</td>\n",
       "      <td>0.2</td>\n",
       "      <td>46860</td>\n",
       "      <td>True</td>\n",
       "      <td>False</td>\n",
       "      <td>False</td>\n",
       "    </tr>\n",
       "    <tr>\n",
       "      <th>20718</th>\n",
       "      <td>101</td>\n",
       "      <td>16</td>\n",
       "      <td>3</td>\n",
       "      <td>high</td>\n",
       "      <td>JJ</td>\n",
       "      <td>I-NP</td>\n",
       "      <td>O</td>\n",
       "      <td>NaN</td>\n",
       "      <td>O</td>\n",
       "      <td>(high, JJ, I-NP)</td>\n",
       "      <td>...</td>\n",
       "      <td>True</td>\n",
       "      <td>True</td>\n",
       "      <td>False</td>\n",
       "      <td>high</td>\n",
       "      <td>True</td>\n",
       "      <td>0.2</td>\n",
       "      <td>11041</td>\n",
       "      <td>True</td>\n",
       "      <td>False</td>\n",
       "      <td>False</td>\n",
       "    </tr>\n",
       "    <tr>\n",
       "      <th>51770</th>\n",
       "      <td>249</td>\n",
       "      <td>7</td>\n",
       "      <td>5</td>\n",
       "      <td>229-1</td>\n",
       "      <td>CD</td>\n",
       "      <td>I-NP</td>\n",
       "      <td>O</td>\n",
       "      <td>NaN</td>\n",
       "      <td>O</td>\n",
       "      <td>(229-1, CD, I-NP)</td>\n",
       "      <td>...</td>\n",
       "      <td>True</td>\n",
       "      <td>True</td>\n",
       "      <td>False</td>\n",
       "      <td>229-1</td>\n",
       "      <td>True</td>\n",
       "      <td>0.2</td>\n",
       "      <td>27093</td>\n",
       "      <td>True</td>\n",
       "      <td>False</td>\n",
       "      <td>False</td>\n",
       "    </tr>\n",
       "    <tr>\n",
       "      <th>193167</th>\n",
       "      <td>893</td>\n",
       "      <td>2</td>\n",
       "      <td>1</td>\n",
       "      <td>'s</td>\n",
       "      <td>POS</td>\n",
       "      <td>B-NP</td>\n",
       "      <td>O</td>\n",
       "      <td>NaN</td>\n",
       "      <td>O</td>\n",
       "      <td>('s, POS, B-NP)</td>\n",
       "      <td>...</td>\n",
       "      <td>True</td>\n",
       "      <td>True</td>\n",
       "      <td>False</td>\n",
       "      <td>'s</td>\n",
       "      <td>True</td>\n",
       "      <td>0.2</td>\n",
       "      <td>95657</td>\n",
       "      <td>True</td>\n",
       "      <td>False</td>\n",
       "      <td>False</td>\n",
       "    </tr>\n",
       "    <tr>\n",
       "      <th>193168</th>\n",
       "      <td>893</td>\n",
       "      <td>2</td>\n",
       "      <td>2</td>\n",
       "      <td>new</td>\n",
       "      <td>JJ</td>\n",
       "      <td>I-NP</td>\n",
       "      <td>O</td>\n",
       "      <td>NaN</td>\n",
       "      <td>O</td>\n",
       "      <td>(new, JJ, I-NP)</td>\n",
       "      <td>...</td>\n",
       "      <td>True</td>\n",
       "      <td>True</td>\n",
       "      <td>False</td>\n",
       "      <td>new</td>\n",
       "      <td>True</td>\n",
       "      <td>0.2</td>\n",
       "      <td>95657</td>\n",
       "      <td>True</td>\n",
       "      <td>False</td>\n",
       "      <td>False</td>\n",
       "    </tr>\n",
       "    <tr>\n",
       "      <th>20720</th>\n",
       "      <td>101</td>\n",
       "      <td>16</td>\n",
       "      <td>5</td>\n",
       "      <td>he</td>\n",
       "      <td>PRP</td>\n",
       "      <td>B-NP</td>\n",
       "      <td>O</td>\n",
       "      <td>NaN</td>\n",
       "      <td>O</td>\n",
       "      <td>(he, PRP, B-NP)</td>\n",
       "      <td>...</td>\n",
       "      <td>True</td>\n",
       "      <td>True</td>\n",
       "      <td>False</td>\n",
       "      <td>he</td>\n",
       "      <td>True</td>\n",
       "      <td>0.2</td>\n",
       "      <td>11041</td>\n",
       "      <td>True</td>\n",
       "      <td>False</td>\n",
       "      <td>False</td>\n",
       "    </tr>\n",
       "    <tr>\n",
       "      <th>193169</th>\n",
       "      <td>893</td>\n",
       "      <td>2</td>\n",
       "      <td>3</td>\n",
       "      <td>ambassador</td>\n",
       "      <td>NN</td>\n",
       "      <td>I-NP</td>\n",
       "      <td>O</td>\n",
       "      <td>NaN</td>\n",
       "      <td>O</td>\n",
       "      <td>(ambassador, NN, I-NP)</td>\n",
       "      <td>...</td>\n",
       "      <td>True</td>\n",
       "      <td>True</td>\n",
       "      <td>False</td>\n",
       "      <td>ambassador</td>\n",
       "      <td>True</td>\n",
       "      <td>0.2</td>\n",
       "      <td>95657</td>\n",
       "      <td>True</td>\n",
       "      <td>False</td>\n",
       "      <td>False</td>\n",
       "    </tr>\n",
       "    <tr>\n",
       "      <th>161590</th>\n",
       "      <td>740</td>\n",
       "      <td>2</td>\n",
       "      <td>1</td>\n",
       "      <td>authorities</td>\n",
       "      <td>NNS</td>\n",
       "      <td>I-NP</td>\n",
       "      <td>O</td>\n",
       "      <td>NaN</td>\n",
       "      <td>O</td>\n",
       "      <td>(authorities, NNS, I-NP)</td>\n",
       "      <td>...</td>\n",
       "      <td>True</td>\n",
       "      <td>True</td>\n",
       "      <td>False</td>\n",
       "      <td>authorities</td>\n",
       "      <td>True</td>\n",
       "      <td>0.2</td>\n",
       "      <td>79662</td>\n",
       "      <td>True</td>\n",
       "      <td>False</td>\n",
       "      <td>False</td>\n",
       "    </tr>\n",
       "  </tbody>\n",
       "</table>\n",
       "<p>15 rows × 21 columns</p>\n",
       "</div>"
      ],
      "text/plain": [
       "        Article_ID  Sentence_ID  Token_ID          Token POS_Tag Chunk_Tag  \\\n",
       "131561         603            3         2           rise      NN      I-NP   \n",
       "193164         893            1         0          DUBAI     NNP      I-NP   \n",
       "193165         893            1         1     1996-08-29      CD      I-NP   \n",
       "193166         893            2         0     Washington     NNP      I-NP   \n",
       "20719          101           16         4           time      NN      I-NP   \n",
       "95789          450           28         7  nationalistic      JJ      I-NP   \n",
       "95790          450           28         8      political      JJ      I-NP   \n",
       "95791          450           28         9        leaders     NNS      I-NP   \n",
       "20718          101           16         3           high      JJ      I-NP   \n",
       "51770          249            7         5          229-1      CD      I-NP   \n",
       "193167         893            2         1             's     POS      B-NP   \n",
       "193168         893            2         2            new      JJ      I-NP   \n",
       "20720          101           16         5             he     PRP      B-NP   \n",
       "193169         893            2         3     ambassador      NN      I-NP   \n",
       "161590         740            2         1    authorities     NNS      I-NP   \n",
       "\n",
       "       NER_Tag  NER_Tag_ID NER_Tag_Normalized                       Tags  ...  \\\n",
       "131561       O         NaN                  O           (rise, NN, I-NP)  ...   \n",
       "193164   I-LOC     22570.0                LOC         (DUBAI, NNP, I-NP)  ...   \n",
       "193165       O         NaN                  O     (1996-08-29, CD, I-NP)  ...   \n",
       "193166   I-LOC     22571.0                LOC    (Washington, NNP, I-NP)  ...   \n",
       "20719        O         NaN                  O           (time, NN, I-NP)  ...   \n",
       "95789        O         NaN                  O  (nationalistic, JJ, I-NP)  ...   \n",
       "95790        O         NaN                  O      (political, JJ, I-NP)  ...   \n",
       "95791        O         NaN                  O       (leaders, NNS, I-NP)  ...   \n",
       "20718        O         NaN                  O           (high, JJ, I-NP)  ...   \n",
       "51770        O         NaN                  O          (229-1, CD, I-NP)  ...   \n",
       "193167       O         NaN                  O            ('s, POS, B-NP)  ...   \n",
       "193168       O         NaN                  O            (new, JJ, I-NP)  ...   \n",
       "20720        O         NaN                  O            (he, PRP, B-NP)  ...   \n",
       "193169       O         NaN                  O     (ambassador, NN, I-NP)  ...   \n",
       "161590       O         NaN                  O   (authorities, NNS, I-NP)  ...   \n",
       "\n",
       "       Noun_Phrase  NP_Chunk_Tag  NER_Tag_Flag  Predicted_Phrase  \\\n",
       "131561        True          True         False              rise   \n",
       "193164        True          True          True             DUBAI   \n",
       "193165        True          True         False        1996-08-29   \n",
       "193166        True          True          True        Washington   \n",
       "20719         True          True         False              time   \n",
       "95789         True          True         False     nationalistic   \n",
       "95790         True          True         False         political   \n",
       "95791         True          True         False           leaders   \n",
       "20718         True          True         False              high   \n",
       "51770         True          True         False             229-1   \n",
       "193167        True          True         False                's   \n",
       "193168        True          True         False               new   \n",
       "20720         True          True         False                he   \n",
       "193169        True          True         False        ambassador   \n",
       "161590        True          True         False       authorities   \n",
       "\n",
       "       Noun_Phrase_Flag  Score  Phrase_ID  Predicted_Entity_Flag  \\\n",
       "131561             True    0.2      64664                   True   \n",
       "193164             True    0.2      95657                   True   \n",
       "193165             True    0.2      95657                   True   \n",
       "193166             True    0.2      95657                   True   \n",
       "20719              True    0.2      11041                   True   \n",
       "95789              True    0.2      46860                   True   \n",
       "95790              True    0.2      46860                   True   \n",
       "95791              True    0.2      46860                   True   \n",
       "20718              True    0.2      11041                   True   \n",
       "51770              True    0.2      27093                   True   \n",
       "193167             True    0.2      95657                   True   \n",
       "193168             True    0.2      95657                   True   \n",
       "20720              True    0.2      11041                   True   \n",
       "193169             True    0.2      95657                   True   \n",
       "161590             True    0.2      79662                   True   \n",
       "\n",
       "        Predicted_Entity_Flag_TFIDF_Median  \\\n",
       "131561                               False   \n",
       "193164                               False   \n",
       "193165                               False   \n",
       "193166                               False   \n",
       "20719                                False   \n",
       "95789                                False   \n",
       "95790                                False   \n",
       "95791                                False   \n",
       "20718                                False   \n",
       "51770                                False   \n",
       "193167                               False   \n",
       "193168                               False   \n",
       "20720                                False   \n",
       "193169                               False   \n",
       "161590                               False   \n",
       "\n",
       "        Predicted_Entity_Flag_TextRank_Median  \n",
       "131561                                  False  \n",
       "193164                                  False  \n",
       "193165                                  False  \n",
       "193166                                  False  \n",
       "20719                                   False  \n",
       "95789                                   False  \n",
       "95790                                   False  \n",
       "95791                                   False  \n",
       "20718                                   False  \n",
       "51770                                   False  \n",
       "193167                                  False  \n",
       "193168                                  False  \n",
       "20720                                   False  \n",
       "193169                                  False  \n",
       "161590                                  False  \n",
       "\n",
       "[15 rows x 21 columns]"
      ]
     },
     "execution_count": 143,
     "metadata": {},
     "output_type": "execute_result"
    }
   ],
   "source": [
    "above_thresh_df.sort_values('Score').iloc[:15]"
   ]
  },
  {
   "cell_type": "code",
   "execution_count": null,
   "metadata": {},
   "outputs": [],
   "source": []
  }
 ],
 "metadata": {
  "kernelspec": {
   "display_name": "Python - Knowledge Graphs",
   "language": "python",
   "name": "knowledge-graphs"
  },
  "language_info": {
   "codemirror_mode": {
    "name": "ipython",
    "version": 3
   },
   "file_extension": ".py",
   "mimetype": "text/x-python",
   "name": "python",
   "nbconvert_exporter": "python",
   "pygments_lexer": "ipython3",
   "version": "3.8.8"
  }
 },
 "nbformat": 4,
 "nbformat_minor": 4
}
