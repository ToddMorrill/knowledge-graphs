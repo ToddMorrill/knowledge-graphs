{
 "cells": [
  {
   "cell_type": "markdown",
   "id": "c7c48570",
   "metadata": {},
   "source": [
    "# kg Python package demos"
   ]
  },
  {
   "cell_type": "markdown",
   "id": "753529f3",
   "metadata": {},
   "source": [
    "---"
   ]
  },
  {
   "cell_type": "code",
   "execution_count": 17,
   "id": "41afed1f",
   "metadata": {},
   "outputs": [],
   "source": [
    "from IPython.core.display import display, HTML\n",
    "\n",
    "from SPARQLWrapper import SPARQLWrapper, JSON\n",
    "\n",
    "from kg.ner.unsupervised import NounPhraseDetector, ProperNounDetector, ClusterEntityTypeDetector\n",
    "from kg.ner.supervised import PyTorchTypeDetector, PretrainedEntityDetector, SpacyEntityTypeDetector\n",
    "from kg.ner.utils import prepare_entity_html, prepare_entity_link_html\n",
    "from kg.el.entity_db import EntityDB"
   ]
  },
  {
   "cell_type": "markdown",
   "id": "13877378",
   "metadata": {},
   "source": [
    "### \"A nor’easter grounded flights departing from New York City this weekend. LaGuardia, JFK, and Newark were all impacted though transportation officials expect normal operations to resume by early Monday morning.\""
   ]
  },
  {
   "cell_type": "code",
   "execution_count": 19,
   "id": "f712d2d3",
   "metadata": {},
   "outputs": [],
   "source": [
    "sample_sentence = (\"A nor’easter grounded flights departing from New York City this weekend. \"\n",
    "                   \"LaGuardia, JFK, and Newark were all impacted though transportation \"\n",
    "                   \"officials expect normal operations to resume by early Monday morning.\")"
   ]
  },
  {
   "cell_type": "markdown",
   "id": "6c2794da",
   "metadata": {},
   "source": [
    "---"
   ]
  },
  {
   "cell_type": "markdown",
   "id": "16c0e99e",
   "metadata": {},
   "source": [
    "## Entity Detection"
   ]
  },
  {
   "cell_type": "code",
   "execution_count": 20,
   "id": "71ea5967",
   "metadata": {},
   "outputs": [
    {
     "data": {
      "text/html": [
       "A nor ’ easter grounded flights departing from <u style=\"background-color:DodgerBlue;color:white;\">New York City</u> this weekend . <u style=\"background-color:DodgerBlue;color:white;\">LaGuardia</u> , <u style=\"background-color:DodgerBlue;color:white;\">JFK</u> , and <u style=\"background-color:DodgerBlue;color:white;\">Newark</u> were all impacted though transportation officials expect normal operations to resume by early <u style=\"background-color:DodgerBlue;color:white;\">Monday</u> morning ."
      ],
      "text/plain": [
       "<IPython.core.display.HTML object>"
      ]
     },
     "metadata": {},
     "output_type": "display_data"
    }
   ],
   "source": [
    "# unsupervised, developed from scratch\n",
    "proper_noun_detector = ProperNounDetector()\n",
    "output = proper_noun_detector.extract(sample_sentence)\n",
    "entity_html = prepare_entity_html(output)\n",
    "display(HTML(entity_html))"
   ]
  },
  {
   "cell_type": "code",
   "execution_count": 21,
   "id": "dc6c5225",
   "metadata": {},
   "outputs": [
    {
     "data": {
      "text/html": [
       "<u style=\"background-color:DodgerBlue;color:white;\">A nor ’ easter</u> grounded flights departing from <u style=\"background-color:DodgerBlue;color:white;\">New York City this weekend</u> . <u style=\"background-color:DodgerBlue;color:white;\">LaGuardia</u> , <u style=\"background-color:DodgerBlue;color:white;\">JFK</u> , <u style=\"background-color:DodgerBlue;color:white;\">and Newark</u> were all impacted though <u style=\"background-color:DodgerBlue;color:white;\">transportation officials</u> expect <u style=\"background-color:DodgerBlue;color:white;\">normal operations</u> to resume by <u style=\"background-color:DodgerBlue;color:white;\">early Monday morning</u> ."
      ],
      "text/plain": [
       "<IPython.core.display.HTML object>"
      ]
     },
     "metadata": {},
     "output_type": "display_data"
    }
   ],
   "source": [
    "# unsupervised, noun phrase detector\n",
    "noun_phrase_detecor = NounPhraseDetector()\n",
    "output = noun_phrase_detecor.extract(sample_sentence)\n",
    "entity_html = prepare_entity_html(output)\n",
    "display(HTML(entity_html))"
   ]
  },
  {
   "cell_type": "code",
   "execution_count": 4,
   "id": "06df54c3",
   "metadata": {},
   "outputs": [
    {
     "data": {
      "text/html": [
       "A nor ’ easter grounded flights departing from <u style=\"background-color:DodgerBlue;color:white;\">New York City</u> this weekend . <u style=\"background-color:DodgerBlue;color:white;\">LaGuardia</u> , <u style=\"background-color:DodgerBlue;color:white;\">JFK</u> , and <u style=\"background-color:DodgerBlue;color:white;\">Newark</u> were all impacted though transportation officials expect normal operations to resume by early Monday morning ."
      ],
      "text/plain": [
       "<IPython.core.display.HTML object>"
      ]
     },
     "metadata": {},
     "output_type": "display_data"
    }
   ],
   "source": [
    "# supervised, NLTK's binary entity detection\n",
    "pretrained_detector = PretrainedEntityDetector()\n",
    "output = pretrained_detector.extract(sample_sentence)\n",
    "entity_html = prepare_entity_html(output)\n",
    "display(HTML(entity_html))"
   ]
  },
  {
   "cell_type": "markdown",
   "id": "5947bc1d",
   "metadata": {},
   "source": [
    "---"
   ]
  },
  {
   "cell_type": "markdown",
   "id": "2d0fa712",
   "metadata": {},
   "source": [
    "## Named Entity Detection "
   ]
  },
  {
   "cell_type": "code",
   "execution_count": 5,
   "id": "33bc1007",
   "metadata": {},
   "outputs": [
    {
     "data": {
      "text/html": [
       "A nor’easter grounded flights departing from <u style=\"background-color:DodgerBlue;color:white;\">New York City</u> <span style=\"background-color:LightGray;\">(LOC)</span> this weekend. LaGuardia, JFK, and Newark were all impacted though transportation officials expect normal operations to resume by early Monday morning."
      ],
      "text/plain": [
       "<IPython.core.display.HTML object>"
      ]
     },
     "metadata": {},
     "output_type": "display_data"
    }
   ],
   "source": [
    "config_file_path = '/Users/tmorrill002/Documents/datasets/conll/model/runs/20210810-112027/config.yaml'\n",
    "pytorch_detector = PyTorchTypeDetector(config_file_path)\n",
    "output = pytorch_detector.extract(sample_sentence)\n",
    "entity_html = prepare_entity_html(output, binary=False)\n",
    "display(HTML(entity_html))"
   ]
  },
  {
   "cell_type": "code",
   "execution_count": 6,
   "id": "caafeea2",
   "metadata": {},
   "outputs": [
    {
     "data": {
      "text/html": [
       "A nor ’ easter grounded flights departing from <u style=\"background-color:DodgerBlue;color:white;\">New York City</u> <span style=\"background-color:LightGray;\">(GPE)</span> this weekend . <u style=\"background-color:DodgerBlue;color:white;\">LaGuardia</u> <span style=\"background-color:LightGray;\">(GPE)</span> , <u style=\"background-color:DodgerBlue;color:white;\">JFK</u> <span style=\"background-color:LightGray;\">(ORGANIZATION)</span> , and <u style=\"background-color:DodgerBlue;color:white;\">Newark</u> <span style=\"background-color:LightGray;\">(GPE)</span> were all impacted though transportation officials expect normal operations to resume by early Monday morning ."
      ],
      "text/plain": [
       "<IPython.core.display.HTML object>"
      ]
     },
     "metadata": {},
     "output_type": "display_data"
    }
   ],
   "source": [
    "# supervised, NLTK's entity detection\n",
    "pretrained_detector = PretrainedEntityDetector(binary=False)\n",
    "output = pretrained_detector.extract(sample_sentence)\n",
    "entity_html = prepare_entity_html(output, binary=False)\n",
    "display(HTML(entity_html))"
   ]
  },
  {
   "cell_type": "code",
   "execution_count": 7,
   "id": "cef04016",
   "metadata": {},
   "outputs": [
    {
     "data": {
      "text/html": [
       "A <u style=\"background-color:DodgerBlue;color:white;\">nor’easter</u> <span style=\"background-color:LightGray;\">(PERSON)</span> grounded flights departing from <u style=\"background-color:DodgerBlue;color:white;\">New York City</u> <span style=\"background-color:LightGray;\">(GPE)</span> <u style=\"background-color:DodgerBlue;color:white;\">this weekend</u> <span style=\"background-color:LightGray;\">(DATE)</span> . <u style=\"background-color:DodgerBlue;color:white;\">LaGuardia</u> <span style=\"background-color:LightGray;\">(GPE)</span> , <u style=\"background-color:DodgerBlue;color:white;\">JFK</u> <span style=\"background-color:LightGray;\">(PERSON)</span> , and <u style=\"background-color:DodgerBlue;color:white;\">Newark</u> <span style=\"background-color:LightGray;\">(GPE)</span> were all impacted though transportation officials expect normal operations to resume by <u style=\"background-color:DodgerBlue;color:white;\">early Monday morning</u> <span style=\"background-color:LightGray;\">(TIME)</span> ."
      ],
      "text/plain": [
       "<IPython.core.display.HTML object>"
      ]
     },
     "metadata": {},
     "output_type": "display_data"
    }
   ],
   "source": [
    "# supervised, spaCy's entity detection\n",
    "type_detector = SpacyEntityTypeDetector()\n",
    "output = type_detector.extract(sample_sentence)\n",
    "entity_html = prepare_entity_html(output, binary=False)\n",
    "display(HTML(entity_html))"
   ]
  },
  {
   "cell_type": "markdown",
   "id": "60660137",
   "metadata": {},
   "source": [
    "#### TODO: refactor cluster based procedure:\n",
    "- cluster embedded noun phrases or proper nouns using K-Means (or any clustering algorithm)\n",
    "- determine the optimal number of clusters $k$ through distance metrics\n",
    "- have a human review a sample of phrases from each cluster and assign each cluster a semantic label (e.g. Locations, etc.)\n",
    "- use this set of labels for future classifications"
   ]
  },
  {
   "cell_type": "markdown",
   "id": "9cee05a6",
   "metadata": {},
   "source": [
    "---"
   ]
  },
  {
   "cell_type": "markdown",
   "id": "3ce884e8",
   "metadata": {},
   "source": [
    "## Entity disambiguation (and Wikification)"
   ]
  },
  {
   "cell_type": "markdown",
   "id": "1851f3c0",
   "metadata": {},
   "source": [
    "**The problem:**\n",
    "'New York City' also known as:\n",
    "- NYC\n",
    "- New York\n",
    "- the five boroughs\n",
    "- Big Apple\n",
    "- City of New York\n",
    "- NY City\n",
    "- New York, New York\n",
    "- New York City, New York\n",
    "- New York, NY\n",
    "- New York City (NYC)"
   ]
  },
  {
   "cell_type": "markdown",
   "id": "2625f7eb",
   "metadata": {},
   "source": [
    "**The big idea**: take advantage of the link structure present in Wikipedia articles to capture the many ways that entities are represented.\n",
    "\n",
    "For example, on the [Computer Science](https://en.wikipedia.org/wiki/Computer_science) Wikipedia page, you'll notice that *algorithmic processes* links to [Algorithm](https://en.wikipedia.org/wiki/Algorithm)."
   ]
  },
  {
   "cell_type": "code",
   "execution_count": 9,
   "id": "65a4def4",
   "metadata": {},
   "outputs": [],
   "source": [
    "queries = ['New York', 'Mumbai', 'Shanghai']"
   ]
  },
  {
   "cell_type": "code",
   "execution_count": 10,
   "id": "41c71bbd",
   "metadata": {},
   "outputs": [
    {
     "name": "stderr",
     "output_type": "stream",
     "text": [
      "INFO:sqlitedict:opening Sqlite table 'unnamed' in '/Users/tmorrill002/Documents/datasets/wikipedia/20210401_sqlite/db.sqlite'\n"
     ]
    },
    {
     "data": {
      "text/html": [
       "<h4>Results for query: <i>New York</i></h4>\n",
       "<ul>\n",
       "<li><a href=\"https://en.wikipedia.org/wiki/New_York_(state)\">New York (state)</a> (230)</li>\n",
       "<li><a href=\"https://en.wikipedia.org/wiki/New_York_City\">New York City</a> (70)</li>\n",
       "</ul>"
      ],
      "text/plain": [
       "<IPython.core.display.HTML object>"
      ]
     },
     "metadata": {},
     "output_type": "display_data"
    },
    {
     "data": {
      "text/html": [
       "<h4>Results for query: <i>Mumbai</i></h4>\n",
       "<ul>\n",
       "<li><a href=\"https://en.wikipedia.org/wiki/Mumbai\">Mumbai</a> (91)</li>\n",
       "<li><a href=\"https://en.wikipedia.org/wiki/Chhatrapati_Shivaji_Maharaj_International_Airport\">Chhatrapati Shivaji Maharaj International Airport</a> (7)</li>\n",
       "</ul>"
      ],
      "text/plain": [
       "<IPython.core.display.HTML object>"
      ]
     },
     "metadata": {},
     "output_type": "display_data"
    },
    {
     "data": {
      "text/html": [
       "<h4>Results for query: <i>Shanghai</i></h4>\n",
       "<ul>\n",
       "<li><a href=\"https://en.wikipedia.org/wiki/Shanghai\">Shanghai</a> (91)</li>\n",
       "<li><a href=\"https://en.wikipedia.org/wiki/Shanghai_railway_station\">Shanghai railway station</a> (6)</li>\n",
       "</ul>"
      ],
      "text/plain": [
       "<IPython.core.display.HTML object>"
      ]
     },
     "metadata": {},
     "output_type": "display_data"
    }
   ],
   "source": [
    "db_file_path = '/Users/tmorrill002/Documents/datasets/wikipedia/20210401_sqlite/db.sqlite'\n",
    "entity_db = EntityDB(db_file_path)\n",
    "query_results = entity_db.query(queries, k=2)\n",
    "for idx, query in enumerate(queries):\n",
    "    display(HTML(entity_db.query_result_html(query, query_results[idx])))"
   ]
  },
  {
   "cell_type": "markdown",
   "id": "d21c8674",
   "metadata": {},
   "source": [
    "---"
   ]
  },
  {
   "cell_type": "markdown",
   "id": "7f7921b9",
   "metadata": {},
   "source": [
    "## Combine NER with Wikification"
   ]
  },
  {
   "cell_type": "code",
   "execution_count": 13,
   "id": "f70721bc",
   "metadata": {},
   "outputs": [
    {
     "data": {
      "text/html": [
       "A <a href=\"https://en.wikipedia.org/wiki/nor’easter\">nor’easter</a> <span style=\"background-color:LightGray;\">(PERSON, 1)</span> grounded flights departing from <a href=\"https://en.wikipedia.org/wiki/New_York_City\">New York City</a> <span style=\"background-color:LightGray;\">(GPE, 485)</span> <u style=\"background-color:DodgerBlue;color:white;\">this weekend</u> <span style=\"background-color:LightGray;\">(DATE)</span> . <a href=\"https://en.wikipedia.org/wiki/LaGuardia_Airport\">LaGuardia</a> <span style=\"background-color:LightGray;\">(GPE, 2)</span> , <a href=\"https://en.wikipedia.org/wiki/Jeunesse_Féminine_de_Kouba\">JFK</a> <span style=\"background-color:LightGray;\">(PERSON, 2)</span> , and <a href=\"https://en.wikipedia.org/wiki/Newark,_California\">Newark</a> <span style=\"background-color:LightGray;\">(GPE, 5)</span> were all impacted though transportation officials expect normal operations to resume by <u style=\"background-color:DodgerBlue;color:white;\">early Monday morning</u> <span style=\"background-color:LightGray;\">(TIME)</span> ."
      ],
      "text/plain": [
       "<IPython.core.display.HTML object>"
      ]
     },
     "metadata": {},
     "output_type": "display_data"
    }
   ],
   "source": [
    "# supervised, spaCy's entity detection\n",
    "output = type_detector.extract(sample_sentence)\n",
    "html = prepare_entity_link_html(output, entity_db)\n",
    "display(HTML(html))"
   ]
  },
  {
   "cell_type": "markdown",
   "id": "3493a771",
   "metadata": {},
   "source": [
    "---"
   ]
  },
  {
   "cell_type": "markdown",
   "id": "548bfcff",
   "metadata": {},
   "source": [
    "## Link to Wikidata and answer questions"
   ]
  },
  {
   "cell_type": "markdown",
   "id": "6c8cba33",
   "metadata": {},
   "source": [
    "**Consider the question:** How many people live in New York City?\n",
    "\n",
    "The [New York City](https://www.wikidata.org/wiki/Q60) Wikidata entry has the following information:\n",
    "- **population**: 8,398,748±10,000\n",
    "    - **point in time**: 1 July 2018\n",
    "    - **determination method**: project management estimation\n",
    "    - **reference**:\n",
    "        - **stated in**: Population Estimates Program\n",
    "        - **issue**: 2018\n",
    "        - **reference URL**: https://factfinder.census.gov/faces/tableservices/jsf/pages/productview.xhtml?src=CF\n",
    "        - **retrieved**: 15 December 2019"
   ]
  },
  {
   "cell_type": "markdown",
   "id": "df453a12",
   "metadata": {},
   "source": [
    "**SPARQL Query for [population of New York City](https://w.wiki/3s5m)**\n",
    "\n",
    "```\n",
    "# Population of New York City\n",
    "SELECT ?count WHERE {\n",
    "  wd:Q60 wdt:P1082 ?count.\n",
    "  SERVICE wikibase:label { bd:serviceParam wikibase:language \"[AUTO_LANGUAGE],en\". }\n",
    "}\n",
    "```\n",
    "\n",
    "where *wd:Q60* is the entity ID for New York City, and *wdt:P1082* is the relation for population."
   ]
  },
  {
   "cell_type": "code",
   "execution_count": 32,
   "id": "4cedacf4",
   "metadata": {},
   "outputs": [],
   "source": [
    "sparql = SPARQLWrapper(\"https://query.wikidata.org/sparql\")"
   ]
  },
  {
   "cell_type": "code",
   "execution_count": 33,
   "id": "6c5626e9",
   "metadata": {},
   "outputs": [],
   "source": [
    "sparql.setQuery(\"\"\"\n",
    "SELECT ?count WHERE {\n",
    "  wd:Q60 wdt:P1082 ?count.\n",
    "  SERVICE wikibase:label { bd:serviceParam wikibase:language \"[AUTO_LANGUAGE],en\". }\n",
    "}\n",
    "\"\"\")\n",
    "sparql.setReturnFormat(JSON)\n",
    "results = sparql.query().convert()"
   ]
  },
  {
   "cell_type": "code",
   "execution_count": 44,
   "id": "3a628d27",
   "metadata": {},
   "outputs": [
    {
     "name": "stdout",
     "output_type": "stream",
     "text": [
      "The population of New York City is: 8,398,748\n"
     ]
    }
   ],
   "source": [
    "population = results['results']['bindings'][0]['count']['value']\n",
    "print(f'The population of New York City is: {int(population):,}')"
   ]
  },
  {
   "cell_type": "code",
   "execution_count": null,
   "id": "721d6e77",
   "metadata": {},
   "outputs": [],
   "source": []
  }
 ],
 "metadata": {
  "kernelspec": {
   "display_name": "Knowledge Graphs",
   "language": "python",
   "name": "knowledge-graphs"
  },
  "language_info": {
   "codemirror_mode": {
    "name": "ipython",
    "version": 3
   },
   "file_extension": ".py",
   "mimetype": "text/x-python",
   "name": "python",
   "nbconvert_exporter": "python",
   "pygments_lexer": "ipython3",
   "version": "3.9.5"
  }
 },
 "nbformat": 4,
 "nbformat_minor": 5
}
